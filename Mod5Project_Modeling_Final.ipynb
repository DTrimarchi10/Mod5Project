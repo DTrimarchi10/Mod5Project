{
 "cells": [
  {
   "cell_type": "markdown",
   "metadata": {},
   "source": [
    "# Module 5 Project - Modeling Final\n",
    "\n",
    "In this notebook:\n",
    "\n",
    "1. Create a dictionary of datasets (using each dataset version from EDA and Modeling Notebook)\n",
    "2. Perform a train test split once with 15% of data reserved for validation.\n",
    "3. Fit models to every dataset in a loop using gridsearch and crossvalidation on training data.\n",
    "4. Store models and model stats in results - a list of dictionaries. \n",
    "5. Apply models to reserved test data and store in results.\n",
    "6. Choose best model(s) and perform cross validation on total dataset (both train and test data included)"
   ]
  },
  {
   "cell_type": "markdown",
   "metadata": {},
   "source": [
    "DATASETS:\n",
    "1. All Features\n",
    "2. Only Audio Video Columns\n",
    "3. Only Audio Video Columns with collinear columns dropped.\n",
    "4. Non-collinear Audio Video features, PCA on text-area fields, highest ranked bag-of-words features.\n",
    "5. Non-collinear Audio Video features and highest ranked text-area features included.\n",
    "6. All Audio Video Columns and highest ranked text-area and bag-of-words features.\n",
    "\n",
    "\n",
    "\n",
    "Results Dictionary keys:\n",
    "- Dataset\n",
    "- model_type\n",
    "- model\n",
    "- model_params\n",
    "- accuracy_train\n",
    "- accuracy_test\n",
    "- precision_train\n",
    "- precision_test\n",
    "- top_features"
   ]
  },
  {
   "cell_type": "markdown",
   "metadata": {},
   "source": [
    "# Libraries"
   ]
  },
  {
   "cell_type": "code",
   "execution_count": 1,
   "metadata": {},
   "outputs": [],
   "source": [
    "import numpy as np\n",
    "import pandas as pd\n",
    "import matplotlib.pyplot as plt\n",
    "%matplotlib inline\n",
    "import seaborn as sns\n",
    "sns.set_style(\"whitegrid\")\n",
    "sns.set_context(\"talk\")\n",
    "\n",
    "#Sklearn Libraries\n",
    "from sklearn.preprocessing import StandardScaler\n",
    "from sklearn.ensemble import RandomForestClassifier\n",
    "from sklearn.svm import SVC\n",
    "from sklearn.metrics import confusion_matrix, precision_score, accuracy_score, make_scorer\n",
    "from sklearn.model_selection import GridSearchCV, train_test_split, KFold, cross_val_score\n",
    "from sklearn.decomposition import PCA\n",
    "\n",
    "#XGBoost\n",
    "import os\n",
    "os.environ['KMP_DUPLICATE_LIB_OK'] = 'True'\n",
    "import xgboost as xgb\n",
    "\n",
    "#MY FUNCTIONS\n",
    "from cf_matrix import make_confusion_matrix\n",
    "\n",
    "import pickle #For saving cleaned dataframe to use later\n",
    "import time"
   ]
  },
  {
   "cell_type": "code",
   "execution_count": 2,
   "metadata": {},
   "outputs": [],
   "source": [
    "#Read in cleaned dataset from pickle file here\n",
    "with open(\"df.pickle\",\"rb\") as f:\n",
    "    df = pickle.load(f)\n",
    "    \n",
    "text_area_cols = df.columns[17:45]\n",
    "bag_of_words_columns = df.columns[45:156]"
   ]
  },
  {
   "cell_type": "code",
   "execution_count": 172,
   "metadata": {},
   "outputs": [],
   "source": [
    "#READ IN SAVED RESULTS\n",
    "#with open(\"model_results.pickle\",\"rb\") as f_read:\n",
    "#    results2 = pickle.load(f_read)"
   ]
  },
  {
   "cell_type": "code",
   "execution_count": 3,
   "metadata": {},
   "outputs": [],
   "source": [
    "X = df.drop(columns=['target'])\n",
    "y = df.target\n",
    "\n",
    "scaler = StandardScaler()\n",
    "X_scaled = pd.DataFrame(scaler.fit_transform(X),columns=X.columns,index=X.index)"
   ]
  },
  {
   "cell_type": "markdown",
   "metadata": {},
   "source": [
    "# Train Test Split"
   ]
  },
  {
   "cell_type": "code",
   "execution_count": 87,
   "metadata": {},
   "outputs": [
    {
     "data": {
      "text/plain": [
       "79"
      ]
     },
     "execution_count": 87,
     "metadata": {},
     "output_type": "execute_result"
    }
   ],
   "source": [
    "random_state = np.random.randint(0,100)\n",
    "random_state"
   ]
  },
  {
   "cell_type": "code",
   "execution_count": 88,
   "metadata": {},
   "outputs": [],
   "source": [
    "#This will be used to test the cross-validated models\n",
    "X_train, X_test, y_train, y_test = train_test_split(X_scaled,\n",
    "                                                    y,\n",
    "                                                    test_size=0.15,\n",
    "                                                    random_state=random_state)"
   ]
  },
  {
   "cell_type": "markdown",
   "metadata": {},
   "source": [
    "# DATASETS\n",
    "\n",
    "The code blocks below create the 5 flavors of the dataset which will all be fit with various models for comparison purposes."
   ]
  },
  {
   "cell_type": "code",
   "execution_count": 4,
   "metadata": {},
   "outputs": [],
   "source": [
    "datasets = {}"
   ]
  },
  {
   "cell_type": "markdown",
   "metadata": {},
   "source": [
    "## 1\n",
    "\n",
    "All Data"
   ]
  },
  {
   "cell_type": "code",
   "execution_count": 89,
   "metadata": {},
   "outputs": [],
   "source": [
    "datasets['1'] = (X_train,X_test,y_train,y_test) "
   ]
  },
  {
   "cell_type": "markdown",
   "metadata": {},
   "source": [
    "## 2\n",
    "\n",
    "Audio Visual Signal Data Only"
   ]
  },
  {
   "cell_type": "code",
   "execution_count": 90,
   "metadata": {},
   "outputs": [],
   "source": [
    "av_cols = list(X_train.columns[0:17])\n",
    "av_cols.extend(['4124','4125'])\n",
    "datasets['2'] = (X_train[av_cols],X_test[av_cols],y_train,y_test)"
   ]
  },
  {
   "cell_type": "markdown",
   "metadata": {},
   "source": [
    "## 3\n",
    "\n",
    "Only Audio Visual Columns with collinear columns dropped."
   ]
  },
  {
   "cell_type": "code",
   "execution_count": 91,
   "metadata": {},
   "outputs": [],
   "source": [
    "#FROM EDA - dropping collinear columns\n",
    "#Keep 4, drop 2,3,5\n",
    "#Keep 15, drop 7,14\n",
    "#Keep 11, drop 10,12,13,17,1\n",
    "#Keep 8, drop 9, 16\n",
    "#Drop 4124, 4125 because they are not useful\n",
    "av_cols = ['4','6','8','11','15']\n",
    "datasets['3'] = (X_train[av_cols],X_test[av_cols],y_train,y_test)"
   ]
  },
  {
   "cell_type": "markdown",
   "metadata": {},
   "source": [
    "## 4\n",
    "\n",
    "Add in Text area and Bag of words bins - PCA on the text area bins"
   ]
  },
  {
   "cell_type": "code",
   "execution_count": 92,
   "metadata": {},
   "outputs": [
    {
     "data": {
      "text/plain": [
       "Index(['92', '93', '94', '95', '96', '97', '98', '99', '100', '101', '102',\n",
       "       '103', '104', '105', '106', '107', '108', '109', '110', '111', '112',\n",
       "       '113', '114', '115', '116', '117', '118', '119'],\n",
       "      dtype='object')"
      ]
     },
     "execution_count": 92,
     "metadata": {},
     "output_type": "execute_result"
    }
   ],
   "source": [
    "av_cols = ['4','6','8','11','15']\n",
    "text_area_cols"
   ]
  },
  {
   "cell_type": "code",
   "execution_count": 93,
   "metadata": {},
   "outputs": [
    {
     "data": {
      "text/plain": [
       "array([0.38928447, 0.54785543, 0.62646806, 0.68970938, 0.73906004,\n",
       "       0.77953484, 0.81078409, 0.84070216, 0.8623622 , 0.88310981,\n",
       "       0.89940181, 0.91505952, 0.92769959, 0.93876758, 0.94777184,\n",
       "       0.95545414, 0.96272375, 0.96914945, 0.97491674, 0.97992214,\n",
       "       0.98395057, 0.98767086, 0.99112717, 0.99389809, 0.99594076,\n",
       "       0.99758356, 0.99888009, 1.        ])"
      ]
     },
     "execution_count": 93,
     "metadata": {},
     "output_type": "execute_result"
    }
   ],
   "source": [
    "#See what the explained variance is for each feature included\n",
    "pca = PCA()\n",
    "pca.fit(X_train[text_area_cols])\n",
    "pca.explained_variance_ratio_.cumsum()"
   ]
  },
  {
   "cell_type": "code",
   "execution_count": 94,
   "metadata": {},
   "outputs": [],
   "source": [
    "# Run the PCA algorithm\n",
    "n = 5\n",
    "pca_text_area = PCA(n_components=n)\n",
    "new_column_names_text_area = [f\"PC{n}_text_area\" for n in range(1,n+1)]\n",
    "\n",
    "#FIT TRANSFORM to TRAINING DATA\n",
    "text_area_transformed = pca_text_area.fit_transform(X_train[text_area_cols])\n",
    "text_area_transformed = pd.DataFrame(text_area_transformed, \n",
    "                                     columns=new_column_names_text_area, \n",
    "                                     index=X_train.index)\n",
    "X_train_PCAed = pd.concat([X_train[av_cols],text_area_transformed], axis=1)\n",
    "\n",
    "#APPLY FITTED TRANSFORM to TEST DATA\n",
    "text_area_transformed_test = pca_text_area.transform(X_test[text_area_cols])\n",
    "text_area_transformed_test = pd.DataFrame(text_area_transformed_test,\n",
    "                                     columns=new_column_names_text_area,\n",
    "                                     index=X_test.index)\n",
    "\n",
    "X_test_PCAed = pd.concat([X_test[av_cols],text_area_transformed_test], axis=1)"
   ]
  },
  {
   "cell_type": "code",
   "execution_count": 95,
   "metadata": {},
   "outputs": [],
   "source": [
    "datasets['4'] = (X_train_PCAed,X_test_PCAed,y_train,y_test)"
   ]
  },
  {
   "cell_type": "markdown",
   "metadata": {},
   "source": [
    "## 5\n",
    "\n",
    "Non-collinear raw Audio Video columns + most important text area columns. NO PCA columns."
   ]
  },
  {
   "cell_type": "code",
   "execution_count": 118,
   "metadata": {},
   "outputs": [],
   "source": [
    "text_area_cols_to_keep = ['92','99','100','102','104','118']\n",
    "#text_area_cols_to_keep = ['92','99','102','104','118']\n",
    "bag_of_words_cols_to_keep = ['129','142','156','168','924','959']\n",
    "#av_cols = ['4','6','8','11','15']\n",
    "av_cols = ['4','6','8','11','15']\n",
    "\n",
    "#Originally contained bag of words columns but model performed well without\n",
    "#cols = av_cols + text_area_cols_to_keep + bag_of_words_cols_to_keep\n",
    "cols = av_cols + text_area_cols_to_keep\n",
    "\n",
    "datasets['5'] = (X_train[cols],X_test[cols],y_train,y_test)"
   ]
  },
  {
   "cell_type": "markdown",
   "metadata": {},
   "source": [
    "## 6\n",
    "\n",
    "All raw Audio Video columns + most important text area and bag of words features. NO PCA columns."
   ]
  },
  {
   "cell_type": "code",
   "execution_count": 97,
   "metadata": {},
   "outputs": [],
   "source": [
    "av_cols = list(X_train.columns[0:17])\n",
    "text_area_cols_to_keep = ['92','99','100','102','104','118']\n",
    "bag_of_words_cols_to_keep = ['129','142','156','168','924','959']\n",
    "\n",
    "cols = av_cols + text_area_cols_to_keep + bag_of_words_cols_to_keep\n",
    "\n",
    "datasets['6'] = (X_train[cols],X_test[cols],y_train,y_test)"
   ]
  },
  {
   "cell_type": "markdown",
   "metadata": {},
   "source": [
    "# MODELING FUNCTIONS"
   ]
  },
  {
   "cell_type": "markdown",
   "metadata": {},
   "source": [
    "### Modeling Functions used to fit and then return a dictionary of stats"
   ]
  },
  {
   "cell_type": "code",
   "execution_count": 16,
   "metadata": {},
   "outputs": [],
   "source": [
    "def fit_model(clf,\n",
    "              train_test_data,\n",
    "              param_grid,\n",
    "              scoring='precision',\n",
    "              cv=5,\n",
    "              feature_importances=10):\n",
    "    \"\"\"\n",
    "    This function will use a gridsearch to fit a model using the classifier and parameter\n",
    "    grid provided. It will return a dictionary containng the model along with test results.\n",
    "    \n",
    "    INPUTS:\n",
    "    clf                 = The classifier being fit.\n",
    "    train_test_data     = Tuple containing train and test data in the format (X_train,X_test,y_train,y_test)\n",
    "    param_grid          = The parameters to use for gridsearch fitting of the classifier.\n",
    "    scoring             = The scoring method to be used by gridsearch.\n",
    "    cv                  = The number of cross validations.\n",
    "    feature_importances = The number of top features to include in the result.\n",
    "    \n",
    "    RETURNS:\n",
    "    Dictionary object with the following keys:\n",
    "    model           = The best model from gridsearch.\n",
    "    model_params    = The best model parameters used.\n",
    "    accuracy_train  = The accuracy of the model on the training data.\n",
    "    accuracy_test   = The accuracy of the model on the test data.\n",
    "    precision_train = The precision of the model on the training data.\n",
    "    precision_test  = The precision of the model on the test data.\n",
    "    top_features    = The top features by feature importance. 'None' if model does not support this behavior.\n",
    "    \"\"\"\n",
    "    result = {}\n",
    "    (X_train,X_test,y_train,y_test) = train_test_data\n",
    "    \n",
    "    grid_clf = GridSearchCV(estimator=clf, param_grid=param_grid, cv=cv, scoring=scoring)\n",
    "    grid_clf.fit(X_train,y_train)\n",
    "    \n",
    "    result['model'] = grid_clf.best_estimator_\n",
    "    result['model_params'] = grid_clf.best_params_\n",
    "    \n",
    "    y_pred_train = grid_clf.predict(X_train)\n",
    "    y_pred_test  = grid_clf.predict(X_test)\n",
    "    \n",
    "    result['accuracy_train']  = round(accuracy_score(y_train,y_pred_train),4)\n",
    "    result['accuracy_test']   = round(accuracy_score(y_test,y_pred_test),4)\n",
    "    result['precision_train'] = round(precision_score(y_train,y_pred_train),4)\n",
    "    result['precision_test']  = round(precision_score(y_test,y_pred_test),4)\n",
    "    \n",
    "    try:\n",
    "        importances = grid_clf.best_estimator_.feature_importances_\n",
    "        indices = np.argsort(importances)[::-1]\n",
    "        if len(importances) < feature_importances:\n",
    "            feature_importances = len(importances)    \n",
    "        features = [ X_train.columns[f_idx] for f_idx in indices[0:feature_importances] ]\n",
    "        result['top_features'] = features\n",
    "    except:\n",
    "        result['top_features'] = 'None'\n",
    "    \n",
    "    return result"
   ]
  },
  {
   "cell_type": "code",
   "execution_count": 46,
   "metadata": {},
   "outputs": [],
   "source": [
    "def modeling_loop_helper(dataset_key,estimator,param_grid,model_type):\n",
    "    \"\"\"\n",
    "    Helper function written to print some information to the screen for each model fit.\n",
    "    It returns the gridsearched model dictionary with two keys added - dataset and model_type.\n",
    "    \n",
    "    INPUTS:\n",
    "    dataset_key = The key corresponding to the dataset in the global datasets object.\n",
    "    estimator   = The classifier which will be passed into the fit_model function.\n",
    "    param_grid  = The parameter grid which will be passed into the fit_model function.\n",
    "    model_type  = A string describing the model type which will be added to the result dictionary.\n",
    "    \n",
    "    RETURNS:\n",
    "    Dictionary object containing results from fit_model function and the following additional keys:\n",
    "    dataset     = The dataset key used for the model.\n",
    "    model_type  = The model type description.\n",
    "    \n",
    "    \"\"\"\n",
    "    print(\"  \",model_type)\n",
    "    start = time.time()\n",
    "    result = fit_model(estimator, datasets[dataset_key], param_grid, feature_importances=20)\n",
    "    result['dataset'] = dataset_key\n",
    "    result['model_type'] = model_type\n",
    "    end = time.time()\n",
    "    print(\"       Accuracy: Train={}    Precision: Train={}\".format(result['accuracy_train'],result['precision_train']))\n",
    "    print(\"                 Test ={}               Test ={}\".format(result['accuracy_test'],result['precision_test']))\n",
    "    print(f\"       time = {round(end-start,3)}\")\n",
    "    return result"
   ]
  },
  {
   "cell_type": "markdown",
   "metadata": {},
   "source": [
    "# MODELING\n",
    "\n",
    "### Parameter grids and classifiers to be used"
   ]
  },
  {
   "cell_type": "markdown",
   "metadata": {},
   "source": [
    "Random Forest"
   ]
  },
  {
   "cell_type": "code",
   "execution_count": 18,
   "metadata": {},
   "outputs": [],
   "source": [
    "rf_clf = RandomForestClassifier(max_features='auto')\n",
    "param_grid_rf = [{'criterion': ['entropy'],\n",
    "                  'max_depth': [5,6,7,8],\n",
    "                  'n_estimators': [50,100] }]\n",
    "#Tested with criterion = 'gini' also but it was never chosen"
   ]
  },
  {
   "cell_type": "markdown",
   "metadata": {},
   "source": [
    "XGBoost"
   ]
  },
  {
   "cell_type": "code",
   "execution_count": 19,
   "metadata": {},
   "outputs": [],
   "source": [
    "xgb_clf = xgb.XGBClassifier()\n",
    "param_grid_xgb = [{'max_depth': [3,4],\n",
    "                   'n_estimators': [50, 100],\n",
    "                   'learning_rate': [0.1, 0.2],\n",
    "                   'gamma': [0, 1] }]"
   ]
  },
  {
   "cell_type": "markdown",
   "metadata": {},
   "source": [
    "Support Vector"
   ]
  },
  {
   "cell_type": "code",
   "execution_count": 20,
   "metadata": {},
   "outputs": [],
   "source": [
    "svc_clf = SVC()\n",
    "param_grid_svc = [{'C': [1, 10],\n",
    "                   'gamma': ['auto'] }]"
   ]
  },
  {
   "cell_type": "markdown",
   "metadata": {},
   "source": [
    "### Modeling Every Dataset and Store Results"
   ]
  },
  {
   "cell_type": "code",
   "execution_count": 21,
   "metadata": {},
   "outputs": [],
   "source": [
    "#IN CASE I WANT TO START OVER WITH A NEW SET OF RESULTS\n",
    "#results = []"
   ]
  },
  {
   "cell_type": "code",
   "execution_count": 29,
   "metadata": {
    "scrolled": false
   },
   "outputs": [
    {
     "name": "stdout",
     "output_type": "stream",
     "text": [
      "MODELING DATASET 1\n",
      "   RANDOM FOREST\n",
      "       Accuracy: Train=0.8412    Precision: Train=0.8326\n",
      "                 Test =0.8386               Test =0.8207\n",
      "       time = 31.415\n",
      "   XGBOOST\n",
      "       Accuracy: Train=0.9287    Precision: Train=0.9284\n",
      "                 Test =0.9141               Test =0.9097\n",
      "       time = 146.244\n",
      "   SUPPORT VECTOR\n",
      "       Accuracy: Train=0.9348    Precision: Train=0.9332\n",
      "                 Test =0.9049               Test =0.8985\n",
      "       time = 907.641\n",
      "\n",
      "MODELING DATASET 2\n",
      "   RANDOM FOREST\n",
      "       Accuracy: Train=0.7949    Precision: Train=0.793\n",
      "                 Test =0.7913               Test =0.7811\n",
      "       time = 25.459\n",
      "   XGBOOST\n",
      "       Accuracy: Train=0.8576    Precision: Train=0.8615\n",
      "                 Test =0.8389               Test =0.8338\n",
      "       time = 24.944\n",
      "   SUPPORT VECTOR\n",
      "       Accuracy: Train=0.8603    Precision: Train=0.8621\n",
      "                 Test =0.8457               Test =0.8418\n",
      "       time = 164.217\n",
      "\n",
      "MODELING DATASET 3\n",
      "   RANDOM FOREST\n",
      "       Accuracy: Train=0.7697    Precision: Train=0.7798\n",
      "                 Test =0.7624               Test =0.7687\n",
      "       time = 14.743\n",
      "   XGBOOST\n",
      "       Accuracy: Train=0.7893    Precision: Train=0.7993\n",
      "                 Test =0.7688               Test =0.7783\n",
      "       time = 7.47\n",
      "   SUPPORT VECTOR\n",
      "       Accuracy: Train=0.7787    Precision: Train=0.7829\n",
      "                 Test =0.7709               Test =0.7721\n",
      "       time = 114.17\n",
      "\n",
      "MODELING DATASET 4\n",
      "   RANDOM FOREST\n",
      "       Accuracy: Train=0.8253    Precision: Train=0.8366\n",
      "                 Test =0.8224               Test =0.8286\n",
      "       time = 22.144\n",
      "   XGBOOST\n",
      "       Accuracy: Train=0.8779    Precision: Train=0.8857\n",
      "                 Test =0.8648               Test =0.8666\n",
      "       time = 17.081\n",
      "   SUPPORT VECTOR\n",
      "       Accuracy: Train=0.9051    Precision: Train=0.9091\n",
      "                 Test =0.8747               Test =0.8793\n",
      "       time = 101.342\n",
      "\n",
      "MODELING DATASET 5\n",
      "   RANDOM FOREST\n",
      "       Accuracy: Train=0.8343    Precision: Train=0.8368\n",
      "                 Test =0.8311               Test =0.8227\n",
      "       time = 21.391\n",
      "   XGBOOST\n",
      "       Accuracy: Train=0.9031    Precision: Train=0.9076\n",
      "                 Test =0.8879               Test =0.8858\n",
      "       time = 21.068\n",
      "   SUPPORT VECTOR\n",
      "       Accuracy: Train=0.9077    Precision: Train=0.9089\n",
      "                 Test =0.8884               Test =0.8845\n",
      "       time = 112.974\n",
      "\n",
      "MODELING DATASET 6\n",
      "   RANDOM FOREST\n",
      "       Accuracy: Train=0.8318    Precision: Train=0.8316\n",
      "                 Test =0.8282               Test =0.8186\n",
      "       time = 26.731\n",
      "   XGBOOST\n",
      "       Accuracy: Train=0.9103    Precision: Train=0.9125\n",
      "                 Test =0.8946               Test =0.8924\n",
      "       time = 34.468\n",
      "   SUPPORT VECTOR\n",
      "       Accuracy: Train=0.9191    Precision: Train=0.9177\n",
      "                 Test =0.8993               Test =0.8918\n",
      "       time = 167.532\n",
      "\n"
     ]
    }
   ],
   "source": [
    "for key in datasets.keys():\n",
    "    print(f\"MODELING DATASET {key}\")\n",
    "    \n",
    "    results.append(modeling_loop_helper(key,rf_clf,param_grid_rf,\"RANDOM FOREST\"))\n",
    "    results.append(modeling_loop_helper(key,xgb_clf,param_grid_xgb,\"XGBOOST\"))\n",
    "    results.append(modeling_loop_helper(key,svc_clf,param_grid_svc,\"SUPPORT VECTOR\"))\n",
    "\n",
    "    print(\"\")"
   ]
  },
  {
   "cell_type": "markdown",
   "metadata": {},
   "source": [
    "### One-off Models\n",
    "Ran code below several times with different parameter grids on specific datasets. All results appended to results list."
   ]
  },
  {
   "cell_type": "code",
   "execution_count": 119,
   "metadata": {},
   "outputs": [
    {
     "name": "stdout",
     "output_type": "stream",
     "text": [
      "   XGBOOST\n",
      "       Accuracy: Train=0.8997    Precision: Train=0.9041\n",
      "                 Test =0.886               Test =0.8932\n",
      "       time = 29.758\n"
     ]
    }
   ],
   "source": [
    "xgb_clf = xgb.XGBClassifier()\n",
    "param_grid_xgb = [{'max_depth': [4],\n",
    "                   'n_estimators': [100],\n",
    "                   'learning_rate': [0.1],\n",
    "                   'gamma': [0, 1] }]\n",
    "\n",
    "results.append(modeling_loop_helper('5',xgb_clf,param_grid_xgb,\"XGBOOST\"))"
   ]
  },
  {
   "cell_type": "code",
   "execution_count": 80,
   "metadata": {},
   "outputs": [
    {
     "name": "stdout",
     "output_type": "stream",
     "text": [
      "   SUPPORT VECTOR\n",
      "       Accuracy: Train=0.9019    Precision: Train=0.9038\n",
      "                 Test =0.8864               Test =0.8799\n",
      "       time = 84.85\n"
     ]
    }
   ],
   "source": [
    "svc_clf = SVC()\n",
    "param_grid_svc = [{'C': [1.0],\n",
    "                   'gamma': ['auto'] }]\n",
    "\n",
    "results.append(modeling_loop_helper('5',svc_clf,param_grid_svc,\"SUPPORT VECTOR\"))"
   ]
  },
  {
   "cell_type": "code",
   "execution_count": 32,
   "metadata": {
    "scrolled": true
   },
   "outputs": [
    {
     "name": "stdout",
     "output_type": "stream",
     "text": [
      "   RANDOM FOREST\n",
      "       Accuracy: Train=0.8949    Precision: Train=0.8946\n",
      "                 Test =0.874               Test =0.8701\n",
      "       time = 128.396\n"
     ]
    }
   ],
   "source": [
    "rf_clf = RandomForestClassifier(max_features='auto')\n",
    "param_grid_rf = [{'criterion': ['entropy'],\n",
    "                  'max_depth': [6,7,8],\n",
    "                  'min_samples_leaf': [1],\n",
    "                  'n_estimators':[50,100] }]\n",
    "\n",
    "results.append(modeling_loop_helper('5',rf_clf,param_grid_rf,\"RANDOM FOREST\"))"
   ]
  },
  {
   "cell_type": "markdown",
   "metadata": {},
   "source": [
    "## Results List\n",
    "\n",
    "Inpect / Slide result data as needed"
   ]
  },
  {
   "cell_type": "code",
   "execution_count": 120,
   "metadata": {},
   "outputs": [],
   "source": [
    "result_df = pd.DataFrame(results)"
   ]
  },
  {
   "cell_type": "code",
   "execution_count": 166,
   "metadata": {},
   "outputs": [
    {
     "data": {
      "text/html": [
       "<div>\n",
       "<style scoped>\n",
       "    .dataframe tbody tr th:only-of-type {\n",
       "        vertical-align: middle;\n",
       "    }\n",
       "\n",
       "    .dataframe tbody tr th {\n",
       "        vertical-align: top;\n",
       "    }\n",
       "\n",
       "    .dataframe thead th {\n",
       "        text-align: right;\n",
       "    }\n",
       "</style>\n",
       "<table border=\"1\" class=\"dataframe\">\n",
       "  <thead>\n",
       "    <tr style=\"text-align: right;\">\n",
       "      <th></th>\n",
       "      <th>accuracy_test</th>\n",
       "      <th>accuracy_train</th>\n",
       "      <th>dataset</th>\n",
       "      <th>model</th>\n",
       "      <th>model_params</th>\n",
       "      <th>model_type</th>\n",
       "      <th>precision_test</th>\n",
       "      <th>precision_train</th>\n",
       "      <th>top_features</th>\n",
       "    </tr>\n",
       "  </thead>\n",
       "  <tbody>\n",
       "    <tr>\n",
       "      <th>12</th>\n",
       "      <td>0.8326</td>\n",
       "      <td>0.8393</td>\n",
       "      <td>5</td>\n",
       "      <td>(DecisionTreeClassifier(class_weight=None, cri...</td>\n",
       "      <td>{'criterion': 'entropy', 'max_depth': 4, 'n_es...</td>\n",
       "      <td>RANDOM FOREST</td>\n",
       "      <td>0.8327</td>\n",
       "      <td>0.8386</td>\n",
       "      <td>[156, 924, 7, 99, 129, 959, 142, 15, 104, 100]</td>\n",
       "    </tr>\n",
       "    <tr>\n",
       "      <th>13</th>\n",
       "      <td>0.8830</td>\n",
       "      <td>0.9027</td>\n",
       "      <td>5</td>\n",
       "      <td>XGBClassifier(base_score=0.5, booster='gbtree'...</td>\n",
       "      <td>{'max_depth': 4}</td>\n",
       "      <td>XGBOOST</td>\n",
       "      <td>0.8924</td>\n",
       "      <td>0.9063</td>\n",
       "      <td>[104, 92, 118, 99, 4, 102, 8, 15, 100, 7]</td>\n",
       "    </tr>\n",
       "    <tr>\n",
       "      <th>14</th>\n",
       "      <td>0.8882</td>\n",
       "      <td>0.9066</td>\n",
       "      <td>5</td>\n",
       "      <td>SVC(C=1.0, cache_size=200, class_weight=None, ...</td>\n",
       "      <td>{'gamma': 'auto'}</td>\n",
       "      <td>SUPPORT VECTOR</td>\n",
       "      <td>0.8967</td>\n",
       "      <td>0.9072</td>\n",
       "      <td>None</td>\n",
       "    </tr>\n",
       "    <tr>\n",
       "      <th>18</th>\n",
       "      <td>0.8755</td>\n",
       "      <td>0.8889</td>\n",
       "      <td>5</td>\n",
       "      <td>XGBClassifier(base_score=0.5, booster='gbtree'...</td>\n",
       "      <td>{'gamma': 0, 'learning_rate': 0.1, 'max_depth'...</td>\n",
       "      <td>XGBOOST</td>\n",
       "      <td>0.8828</td>\n",
       "      <td>0.8946</td>\n",
       "      <td>[104, 99, 92, 118, 4, 102, 8, 7, 959, 100]</td>\n",
       "    </tr>\n",
       "    <tr>\n",
       "      <th>19</th>\n",
       "      <td>0.8882</td>\n",
       "      <td>0.9066</td>\n",
       "      <td>5</td>\n",
       "      <td>SVC(C=1.0, cache_size=200, class_weight=None, ...</td>\n",
       "      <td>{'C': 1.0, 'gamma': 'auto'}</td>\n",
       "      <td>SUPPORT VECTOR</td>\n",
       "      <td>0.8967</td>\n",
       "      <td>0.9072</td>\n",
       "      <td>None</td>\n",
       "    </tr>\n",
       "    <tr>\n",
       "      <th>20</th>\n",
       "      <td>0.8732</td>\n",
       "      <td>0.8941</td>\n",
       "      <td>5</td>\n",
       "      <td>(DecisionTreeClassifier(class_weight=None, cri...</td>\n",
       "      <td>{'criterion': 'entropy', 'max_depth': 8, 'min_...</td>\n",
       "      <td>RANDOM FOREST</td>\n",
       "      <td>0.8792</td>\n",
       "      <td>0.8930</td>\n",
       "      <td>[924, 7, 99, 156, 142, 15, 104, 129, 100, 959]</td>\n",
       "    </tr>\n",
       "    <tr>\n",
       "      <th>33</th>\n",
       "      <td>0.8311</td>\n",
       "      <td>0.8343</td>\n",
       "      <td>5</td>\n",
       "      <td>(DecisionTreeClassifier(class_weight=None, cri...</td>\n",
       "      <td>{'criterion': 'entropy', 'max_depth': 4, 'n_es...</td>\n",
       "      <td>RANDOM FOREST</td>\n",
       "      <td>0.8227</td>\n",
       "      <td>0.8368</td>\n",
       "      <td>[924, 156, 7, 15, 142, 99, 129, 959, 104, 100]</td>\n",
       "    </tr>\n",
       "    <tr>\n",
       "      <th>34</th>\n",
       "      <td>0.8879</td>\n",
       "      <td>0.9031</td>\n",
       "      <td>5</td>\n",
       "      <td>XGBClassifier(base_score=0.5, booster='gbtree'...</td>\n",
       "      <td>{'max_depth': 4}</td>\n",
       "      <td>XGBOOST</td>\n",
       "      <td>0.8858</td>\n",
       "      <td>0.9076</td>\n",
       "      <td>[104, 118, 92, 99, 102, 4, 100, 8, 15, 7]</td>\n",
       "    </tr>\n",
       "    <tr>\n",
       "      <th>35</th>\n",
       "      <td>0.8884</td>\n",
       "      <td>0.9077</td>\n",
       "      <td>5</td>\n",
       "      <td>SVC(C=1.0, cache_size=200, class_weight=None, ...</td>\n",
       "      <td>{'gamma': 'auto'}</td>\n",
       "      <td>SUPPORT VECTOR</td>\n",
       "      <td>0.8845</td>\n",
       "      <td>0.9089</td>\n",
       "      <td>None</td>\n",
       "    </tr>\n",
       "    <tr>\n",
       "      <th>39</th>\n",
       "      <td>0.8817</td>\n",
       "      <td>0.8911</td>\n",
       "      <td>5</td>\n",
       "      <td>XGBClassifier(base_score=0.5, booster='gbtree'...</td>\n",
       "      <td>{'gamma': 0, 'learning_rate': 0.1, 'max_depth'...</td>\n",
       "      <td>XGBOOST</td>\n",
       "      <td>0.8800</td>\n",
       "      <td>0.8958</td>\n",
       "      <td>[104, 92, 118, 99, 4, 102, 8, 959, 100, 15]</td>\n",
       "    </tr>\n",
       "    <tr>\n",
       "      <th>40</th>\n",
       "      <td>0.8884</td>\n",
       "      <td>0.9077</td>\n",
       "      <td>5</td>\n",
       "      <td>SVC(C=1.0, cache_size=200, class_weight=None, ...</td>\n",
       "      <td>{'C': 1.0, 'gamma': 'auto'}</td>\n",
       "      <td>SUPPORT VECTOR</td>\n",
       "      <td>0.8845</td>\n",
       "      <td>0.9089</td>\n",
       "      <td>None</td>\n",
       "    </tr>\n",
       "    <tr>\n",
       "      <th>41</th>\n",
       "      <td>0.8740</td>\n",
       "      <td>0.8949</td>\n",
       "      <td>5</td>\n",
       "      <td>(DecisionTreeClassifier(class_weight=None, cri...</td>\n",
       "      <td>{'criterion': 'entropy', 'max_depth': 8, 'min_...</td>\n",
       "      <td>RANDOM FOREST</td>\n",
       "      <td>0.8701</td>\n",
       "      <td>0.8946</td>\n",
       "      <td>[924, 7, 156, 99, 129, 15, 104, 142, 959, 100]</td>\n",
       "    </tr>\n",
       "    <tr>\n",
       "      <th>42</th>\n",
       "      <td>0.8922</td>\n",
       "      <td>0.9173</td>\n",
       "      <td>5</td>\n",
       "      <td>XGBClassifier(base_score=0.5, booster='gbtree'...</td>\n",
       "      <td>{'gamma': 0, 'learning_rate': 0.1, 'max_depth'...</td>\n",
       "      <td>XGBOOST</td>\n",
       "      <td>0.8879</td>\n",
       "      <td>0.9195</td>\n",
       "      <td>[104, 118, 92, 99, 102, 4, 8, 100, 7, 11]</td>\n",
       "    </tr>\n",
       "    <tr>\n",
       "      <th>43</th>\n",
       "      <td>0.9027</td>\n",
       "      <td>0.9910</td>\n",
       "      <td>5</td>\n",
       "      <td>XGBClassifier(base_score=0.5, booster='gbtree'...</td>\n",
       "      <td>{'gamma': 0, 'learning_rate': 0.1, 'max_depth'...</td>\n",
       "      <td>XGBOOST</td>\n",
       "      <td>0.9013</td>\n",
       "      <td>0.9882</td>\n",
       "      <td>[104, 4, 102, 118, 8, 99, 11, 92, 100, 7]</td>\n",
       "    </tr>\n",
       "    <tr>\n",
       "      <th>44</th>\n",
       "      <td>0.8817</td>\n",
       "      <td>0.8911</td>\n",
       "      <td>5</td>\n",
       "      <td>XGBClassifier(base_score=0.5, booster='gbtree'...</td>\n",
       "      <td>{'gamma': 0, 'learning_rate': 0.1, 'max_depth'...</td>\n",
       "      <td>XGBOOST</td>\n",
       "      <td>0.8800</td>\n",
       "      <td>0.8958</td>\n",
       "      <td>[104, 92, 118, 99, 4, 102, 8, 959, 100, 15]</td>\n",
       "    </tr>\n",
       "    <tr>\n",
       "      <th>45</th>\n",
       "      <td>0.8888</td>\n",
       "      <td>0.9035</td>\n",
       "      <td>5</td>\n",
       "      <td>XGBClassifier(base_score=0.5, booster='gbtree'...</td>\n",
       "      <td>{'gamma': 1, 'learning_rate': 0.1, 'max_depth'...</td>\n",
       "      <td>XGBOOST</td>\n",
       "      <td>0.8864</td>\n",
       "      <td>0.9076</td>\n",
       "      <td>[104, 92, 99, 118, 102, 4, 15, 100, 8, 7]</td>\n",
       "    </tr>\n",
       "    <tr>\n",
       "      <th>46</th>\n",
       "      <td>0.8894</td>\n",
       "      <td>0.9032</td>\n",
       "      <td>5</td>\n",
       "      <td>XGBClassifier(base_score=0.5, booster='gbtree'...</td>\n",
       "      <td>{'gamma': 2, 'learning_rate': 0.1, 'max_depth'...</td>\n",
       "      <td>XGBOOST</td>\n",
       "      <td>0.8870</td>\n",
       "      <td>0.9071</td>\n",
       "      <td>[104, 118, 92, 99, 102, 4, 100, 8, 15, 7, 959,...</td>\n",
       "    </tr>\n",
       "    <tr>\n",
       "      <th>48</th>\n",
       "      <td>0.8937</td>\n",
       "      <td>0.9170</td>\n",
       "      <td>5</td>\n",
       "      <td>XGBClassifier(base_score=0.5, booster='gbtree'...</td>\n",
       "      <td>{'gamma': 1, 'learning_rate': 0.2, 'max_depth'...</td>\n",
       "      <td>XGBOOST</td>\n",
       "      <td>0.8922</td>\n",
       "      <td>0.9195</td>\n",
       "      <td>[104, 92, 99, 118, 102, 4, 8, 11, 100, 7, 15, ...</td>\n",
       "    </tr>\n",
       "    <tr>\n",
       "      <th>49</th>\n",
       "      <td>0.8980</td>\n",
       "      <td>0.9184</td>\n",
       "      <td>5</td>\n",
       "      <td>XGBClassifier(base_score=0.5, booster='gbtree'...</td>\n",
       "      <td>{'gamma': 1, 'learning_rate': 0.2, 'max_depth'...</td>\n",
       "      <td>XGBOOST</td>\n",
       "      <td>0.8961</td>\n",
       "      <td>0.9216</td>\n",
       "      <td>[104, 92, 99, 118, 15, 102, 4, 8, 11, 100, 6, ...</td>\n",
       "    </tr>\n",
       "    <tr>\n",
       "      <th>50</th>\n",
       "      <td>0.8869</td>\n",
       "      <td>0.9125</td>\n",
       "      <td>5</td>\n",
       "      <td>XGBClassifier(base_score=0.5, booster='gbtree'...</td>\n",
       "      <td>{'gamma': 2, 'learning_rate': 0.2, 'max_depth'...</td>\n",
       "      <td>XGBOOST</td>\n",
       "      <td>0.8863</td>\n",
       "      <td>0.9174</td>\n",
       "      <td>[104, 92, 99, 118, 6, 102, 15, 11, 4, 100, 8]</td>\n",
       "    </tr>\n",
       "    <tr>\n",
       "      <th>51</th>\n",
       "      <td>0.8864</td>\n",
       "      <td>0.9019</td>\n",
       "      <td>5</td>\n",
       "      <td>SVC(C=1.0, cache_size=200, class_weight=None, ...</td>\n",
       "      <td>{'C': 1.0, 'gamma': 'auto'}</td>\n",
       "      <td>SUPPORT VECTOR</td>\n",
       "      <td>0.8799</td>\n",
       "      <td>0.9038</td>\n",
       "      <td>None</td>\n",
       "    </tr>\n",
       "    <tr>\n",
       "      <th>52</th>\n",
       "      <td>0.8860</td>\n",
       "      <td>0.8997</td>\n",
       "      <td>5</td>\n",
       "      <td>XGBClassifier(base_score=0.5, booster='gbtree'...</td>\n",
       "      <td>{'gamma': 1, 'learning_rate': 0.1, 'max_depth'...</td>\n",
       "      <td>XGBOOST</td>\n",
       "      <td>0.8932</td>\n",
       "      <td>0.9041</td>\n",
       "      <td>[104, 92, 6, 118, 99, 15, 102, 4, 11, 8, 100]</td>\n",
       "    </tr>\n",
       "    <tr>\n",
       "      <th>53</th>\n",
       "      <td>0.8667</td>\n",
       "      <td>0.8833</td>\n",
       "      <td>5</td>\n",
       "      <td>XGBClassifier(base_score=0.5, booster='gbtree'...</td>\n",
       "      <td>{'gamma': 1, 'learning_rate': 0.1, 'max_depth'...</td>\n",
       "      <td>XGBOOST</td>\n",
       "      <td>0.8767</td>\n",
       "      <td>0.8873</td>\n",
       "      <td>[104, 92, 99, 118, 102, 4, 11, 9, 15]</td>\n",
       "    </tr>\n",
       "    <tr>\n",
       "      <th>54</th>\n",
       "      <td>0.8800</td>\n",
       "      <td>0.8975</td>\n",
       "      <td>5</td>\n",
       "      <td>XGBClassifier(base_score=0.5, booster='gbtree'...</td>\n",
       "      <td>{'gamma': 1, 'learning_rate': 0.1, 'max_depth'...</td>\n",
       "      <td>XGBOOST</td>\n",
       "      <td>0.8878</td>\n",
       "      <td>0.9013</td>\n",
       "      <td>[104, 92, 6, 99, 118, 102, 15, 4, 11, 9]</td>\n",
       "    </tr>\n",
       "    <tr>\n",
       "      <th>55</th>\n",
       "      <td>0.8843</td>\n",
       "      <td>0.9007</td>\n",
       "      <td>5</td>\n",
       "      <td>XGBClassifier(base_score=0.5, booster='gbtree'...</td>\n",
       "      <td>{'gamma': 0, 'learning_rate': 0.1, 'max_depth'...</td>\n",
       "      <td>XGBOOST</td>\n",
       "      <td>0.8910</td>\n",
       "      <td>0.9042</td>\n",
       "      <td>[104, 99, 92, 118, 6, 15, 4, 102, 8, 11]</td>\n",
       "    </tr>\n",
       "    <tr>\n",
       "      <th>56</th>\n",
       "      <td>0.8860</td>\n",
       "      <td>0.8997</td>\n",
       "      <td>5</td>\n",
       "      <td>XGBClassifier(base_score=0.5, booster='gbtree'...</td>\n",
       "      <td>{'gamma': 1, 'learning_rate': 0.1, 'max_depth'...</td>\n",
       "      <td>XGBOOST</td>\n",
       "      <td>0.8932</td>\n",
       "      <td>0.9041</td>\n",
       "      <td>[104, 92, 6, 118, 99, 15, 102, 4, 11, 8, 100]</td>\n",
       "    </tr>\n",
       "  </tbody>\n",
       "</table>\n",
       "</div>"
      ],
      "text/plain": [
       "    accuracy_test  accuracy_train dataset  \\\n",
       "12         0.8326          0.8393       5   \n",
       "13         0.8830          0.9027       5   \n",
       "14         0.8882          0.9066       5   \n",
       "18         0.8755          0.8889       5   \n",
       "19         0.8882          0.9066       5   \n",
       "20         0.8732          0.8941       5   \n",
       "33         0.8311          0.8343       5   \n",
       "34         0.8879          0.9031       5   \n",
       "35         0.8884          0.9077       5   \n",
       "39         0.8817          0.8911       5   \n",
       "40         0.8884          0.9077       5   \n",
       "41         0.8740          0.8949       5   \n",
       "42         0.8922          0.9173       5   \n",
       "43         0.9027          0.9910       5   \n",
       "44         0.8817          0.8911       5   \n",
       "45         0.8888          0.9035       5   \n",
       "46         0.8894          0.9032       5   \n",
       "48         0.8937          0.9170       5   \n",
       "49         0.8980          0.9184       5   \n",
       "50         0.8869          0.9125       5   \n",
       "51         0.8864          0.9019       5   \n",
       "52         0.8860          0.8997       5   \n",
       "53         0.8667          0.8833       5   \n",
       "54         0.8800          0.8975       5   \n",
       "55         0.8843          0.9007       5   \n",
       "56         0.8860          0.8997       5   \n",
       "\n",
       "                                                model  \\\n",
       "12  (DecisionTreeClassifier(class_weight=None, cri...   \n",
       "13  XGBClassifier(base_score=0.5, booster='gbtree'...   \n",
       "14  SVC(C=1.0, cache_size=200, class_weight=None, ...   \n",
       "18  XGBClassifier(base_score=0.5, booster='gbtree'...   \n",
       "19  SVC(C=1.0, cache_size=200, class_weight=None, ...   \n",
       "20  (DecisionTreeClassifier(class_weight=None, cri...   \n",
       "33  (DecisionTreeClassifier(class_weight=None, cri...   \n",
       "34  XGBClassifier(base_score=0.5, booster='gbtree'...   \n",
       "35  SVC(C=1.0, cache_size=200, class_weight=None, ...   \n",
       "39  XGBClassifier(base_score=0.5, booster='gbtree'...   \n",
       "40  SVC(C=1.0, cache_size=200, class_weight=None, ...   \n",
       "41  (DecisionTreeClassifier(class_weight=None, cri...   \n",
       "42  XGBClassifier(base_score=0.5, booster='gbtree'...   \n",
       "43  XGBClassifier(base_score=0.5, booster='gbtree'...   \n",
       "44  XGBClassifier(base_score=0.5, booster='gbtree'...   \n",
       "45  XGBClassifier(base_score=0.5, booster='gbtree'...   \n",
       "46  XGBClassifier(base_score=0.5, booster='gbtree'...   \n",
       "48  XGBClassifier(base_score=0.5, booster='gbtree'...   \n",
       "49  XGBClassifier(base_score=0.5, booster='gbtree'...   \n",
       "50  XGBClassifier(base_score=0.5, booster='gbtree'...   \n",
       "51  SVC(C=1.0, cache_size=200, class_weight=None, ...   \n",
       "52  XGBClassifier(base_score=0.5, booster='gbtree'...   \n",
       "53  XGBClassifier(base_score=0.5, booster='gbtree'...   \n",
       "54  XGBClassifier(base_score=0.5, booster='gbtree'...   \n",
       "55  XGBClassifier(base_score=0.5, booster='gbtree'...   \n",
       "56  XGBClassifier(base_score=0.5, booster='gbtree'...   \n",
       "\n",
       "                                         model_params      model_type  \\\n",
       "12  {'criterion': 'entropy', 'max_depth': 4, 'n_es...   RANDOM FOREST   \n",
       "13                                   {'max_depth': 4}         XGBOOST   \n",
       "14                                  {'gamma': 'auto'}  SUPPORT VECTOR   \n",
       "18  {'gamma': 0, 'learning_rate': 0.1, 'max_depth'...         XGBOOST   \n",
       "19                        {'C': 1.0, 'gamma': 'auto'}  SUPPORT VECTOR   \n",
       "20  {'criterion': 'entropy', 'max_depth': 8, 'min_...   RANDOM FOREST   \n",
       "33  {'criterion': 'entropy', 'max_depth': 4, 'n_es...   RANDOM FOREST   \n",
       "34                                   {'max_depth': 4}         XGBOOST   \n",
       "35                                  {'gamma': 'auto'}  SUPPORT VECTOR   \n",
       "39  {'gamma': 0, 'learning_rate': 0.1, 'max_depth'...         XGBOOST   \n",
       "40                        {'C': 1.0, 'gamma': 'auto'}  SUPPORT VECTOR   \n",
       "41  {'criterion': 'entropy', 'max_depth': 8, 'min_...   RANDOM FOREST   \n",
       "42  {'gamma': 0, 'learning_rate': 0.1, 'max_depth'...         XGBOOST   \n",
       "43  {'gamma': 0, 'learning_rate': 0.1, 'max_depth'...         XGBOOST   \n",
       "44  {'gamma': 0, 'learning_rate': 0.1, 'max_depth'...         XGBOOST   \n",
       "45  {'gamma': 1, 'learning_rate': 0.1, 'max_depth'...         XGBOOST   \n",
       "46  {'gamma': 2, 'learning_rate': 0.1, 'max_depth'...         XGBOOST   \n",
       "48  {'gamma': 1, 'learning_rate': 0.2, 'max_depth'...         XGBOOST   \n",
       "49  {'gamma': 1, 'learning_rate': 0.2, 'max_depth'...         XGBOOST   \n",
       "50  {'gamma': 2, 'learning_rate': 0.2, 'max_depth'...         XGBOOST   \n",
       "51                        {'C': 1.0, 'gamma': 'auto'}  SUPPORT VECTOR   \n",
       "52  {'gamma': 1, 'learning_rate': 0.1, 'max_depth'...         XGBOOST   \n",
       "53  {'gamma': 1, 'learning_rate': 0.1, 'max_depth'...         XGBOOST   \n",
       "54  {'gamma': 1, 'learning_rate': 0.1, 'max_depth'...         XGBOOST   \n",
       "55  {'gamma': 0, 'learning_rate': 0.1, 'max_depth'...         XGBOOST   \n",
       "56  {'gamma': 1, 'learning_rate': 0.1, 'max_depth'...         XGBOOST   \n",
       "\n",
       "    precision_test  precision_train  \\\n",
       "12          0.8327           0.8386   \n",
       "13          0.8924           0.9063   \n",
       "14          0.8967           0.9072   \n",
       "18          0.8828           0.8946   \n",
       "19          0.8967           0.9072   \n",
       "20          0.8792           0.8930   \n",
       "33          0.8227           0.8368   \n",
       "34          0.8858           0.9076   \n",
       "35          0.8845           0.9089   \n",
       "39          0.8800           0.8958   \n",
       "40          0.8845           0.9089   \n",
       "41          0.8701           0.8946   \n",
       "42          0.8879           0.9195   \n",
       "43          0.9013           0.9882   \n",
       "44          0.8800           0.8958   \n",
       "45          0.8864           0.9076   \n",
       "46          0.8870           0.9071   \n",
       "48          0.8922           0.9195   \n",
       "49          0.8961           0.9216   \n",
       "50          0.8863           0.9174   \n",
       "51          0.8799           0.9038   \n",
       "52          0.8932           0.9041   \n",
       "53          0.8767           0.8873   \n",
       "54          0.8878           0.9013   \n",
       "55          0.8910           0.9042   \n",
       "56          0.8932           0.9041   \n",
       "\n",
       "                                         top_features  \n",
       "12     [156, 924, 7, 99, 129, 959, 142, 15, 104, 100]  \n",
       "13          [104, 92, 118, 99, 4, 102, 8, 15, 100, 7]  \n",
       "14                                               None  \n",
       "18         [104, 99, 92, 118, 4, 102, 8, 7, 959, 100]  \n",
       "19                                               None  \n",
       "20     [924, 7, 99, 156, 142, 15, 104, 129, 100, 959]  \n",
       "33     [924, 156, 7, 15, 142, 99, 129, 959, 104, 100]  \n",
       "34          [104, 118, 92, 99, 102, 4, 100, 8, 15, 7]  \n",
       "35                                               None  \n",
       "39        [104, 92, 118, 99, 4, 102, 8, 959, 100, 15]  \n",
       "40                                               None  \n",
       "41     [924, 7, 156, 99, 129, 15, 104, 142, 959, 100]  \n",
       "42          [104, 118, 92, 99, 102, 4, 8, 100, 7, 11]  \n",
       "43          [104, 4, 102, 118, 8, 99, 11, 92, 100, 7]  \n",
       "44        [104, 92, 118, 99, 4, 102, 8, 959, 100, 15]  \n",
       "45          [104, 92, 99, 118, 102, 4, 15, 100, 8, 7]  \n",
       "46  [104, 118, 92, 99, 102, 4, 100, 8, 15, 7, 959,...  \n",
       "48  [104, 92, 99, 118, 102, 4, 8, 11, 100, 7, 15, ...  \n",
       "49  [104, 92, 99, 118, 15, 102, 4, 8, 11, 100, 6, ...  \n",
       "50      [104, 92, 99, 118, 6, 102, 15, 11, 4, 100, 8]  \n",
       "51                                               None  \n",
       "52      [104, 92, 6, 118, 99, 15, 102, 4, 11, 8, 100]  \n",
       "53              [104, 92, 99, 118, 102, 4, 11, 9, 15]  \n",
       "54           [104, 92, 6, 99, 118, 102, 15, 4, 11, 9]  \n",
       "55           [104, 99, 92, 118, 6, 15, 4, 102, 8, 11]  \n",
       "56      [104, 92, 6, 118, 99, 15, 102, 4, 11, 8, 100]  "
      ]
     },
     "execution_count": 166,
     "metadata": {},
     "output_type": "execute_result"
    }
   ],
   "source": [
    "#result_df[(result_df.dataset==\"5\") & (result_df.model_type==\"SUPPORT VECTOR\")]\n",
    "result_df[(result_df.dataset==\"5\") ]"
   ]
  },
  {
   "cell_type": "code",
   "execution_count": 169,
   "metadata": {
    "scrolled": true
   },
   "outputs": [
    {
     "name": "stdout",
     "output_type": "stream",
     "text": [
      "{'criterion': 'entropy', 'max_depth': 4, 'n_estimators': 100}\n",
      "{'criterion': 'entropy', 'max_depth': 8, 'min_samples_leaf': 1, 'n_estimators': 100}\n",
      "{'criterion': 'entropy', 'max_depth': 4, 'n_estimators': 100}\n",
      "{'criterion': 'entropy', 'max_depth': 8, 'min_samples_leaf': 1, 'n_estimators': 100}\n"
     ]
    }
   ],
   "source": [
    "for row in result_df[(result_df.dataset==\"5\") & (result_df.model_type==\"RANDOM FOREST\")][\"model_params\"]:\n",
    "    print(row)"
   ]
  },
  {
   "cell_type": "code",
   "execution_count": 171,
   "metadata": {},
   "outputs": [],
   "source": [
    "#SAVE RESULTS TO PICKLE FILE\n",
    "#with open(\"model_results.pickle\",\"wb\") as f_write:\n",
    "#    pickle.dump(results,f_write,pickle.HIGHEST_PROTOCOL)"
   ]
  },
  {
   "cell_type": "markdown",
   "metadata": {},
   "source": [
    "### KFold Cross Validation"
   ]
  },
  {
   "cell_type": "code",
   "execution_count": 125,
   "metadata": {},
   "outputs": [],
   "source": [
    "def cross_val(model):\n",
    "    scorer = make_scorer(precision_score)\n",
    "    kfold = KFold(n_splits=10)\n",
    "    cross_val_results = cross_val_score(estimator=model,\n",
    "                                    X=X_scaled,\n",
    "                                    y=y,\n",
    "                                    cv=kfold,\n",
    "                                    scoring=scorer)\n",
    "    return cross_val_results"
   ]
  },
  {
   "cell_type": "code",
   "execution_count": 160,
   "metadata": {},
   "outputs": [
    {
     "data": {
      "text/plain": [
       "{'model': XGBClassifier(base_score=0.5, booster='gbtree', colsample_bylevel=1,\n",
       "        colsample_bytree=1, gamma=1, learning_rate=0.1, max_delta_step=0,\n",
       "        max_depth=4, min_child_weight=1, missing=None, n_estimators=100,\n",
       "        n_jobs=1, nthread=None, objective='binary:logistic', random_state=0,\n",
       "        reg_alpha=0, reg_lambda=1, scale_pos_weight=1, seed=None,\n",
       "        silent=True, subsample=1),\n",
       " 'model_params': {'gamma': 1,\n",
       "  'learning_rate': 0.1,\n",
       "  'max_depth': 4,\n",
       "  'n_estimators': 100},\n",
       " 'accuracy_train': 0.8997,\n",
       " 'accuracy_test': 0.886,\n",
       " 'precision_train': 0.9041,\n",
       " 'precision_test': 0.8932,\n",
       " 'top_features': ['104',\n",
       "  '92',\n",
       "  '6',\n",
       "  '118',\n",
       "  '99',\n",
       "  '15',\n",
       "  '102',\n",
       "  '4',\n",
       "  '11',\n",
       "  '8',\n",
       "  '100'],\n",
       " 'dataset': '5',\n",
       " 'model_type': 'XGBOOST'}"
      ]
     },
     "execution_count": 160,
     "metadata": {},
     "output_type": "execute_result"
    }
   ],
   "source": [
    "results[56]"
   ]
  },
  {
   "cell_type": "code",
   "execution_count": 126,
   "metadata": {},
   "outputs": [],
   "source": [
    "final_model = results[56]['model']"
   ]
  },
  {
   "cell_type": "code",
   "execution_count": 179,
   "metadata": {},
   "outputs": [
    {
     "data": {
      "text/plain": [
       "0.8850648070650738"
      ]
     },
     "execution_count": 179,
     "metadata": {},
     "output_type": "execute_result"
    }
   ],
   "source": [
    "cross_val_results = cross_val(final_model)\n",
    "np.mean(cross_val_results)"
   ]
  },
  {
   "cell_type": "markdown",
   "metadata": {},
   "source": [
    "### Confusion Matrix"
   ]
  },
  {
   "cell_type": "code",
   "execution_count": 151,
   "metadata": {},
   "outputs": [],
   "source": [
    "final_cols = ['4', '6', '8', '11', '15', '92', '99', '100', '102', '104', '118']"
   ]
  },
  {
   "cell_type": "code",
   "execution_count": 152,
   "metadata": {},
   "outputs": [],
   "source": [
    "y_pred = final_model.predict(X_scaled[final_cols])\n",
    "cf = confusion_matrix(y,y_pred)"
   ]
  },
  {
   "cell_type": "code",
   "execution_count": 155,
   "metadata": {
    "scrolled": false
   },
   "outputs": [
    {
     "data": {
      "image/png": "[encoded data removed]",
      "text/plain": [
       "<Figure size 432x288 with 1 Axes>"
      ]
     },
     "metadata": {
      "needs_background": "light"
     },
     "output_type": "display_data"
    }
   ],
   "source": [
    "labels = ['True Negative','False Positive','False Negative', 'True Positive']\n",
    "title = 'XGBoost Final Model\\nCommercial=1, News=0'\n",
    "make_confusion_matrix(cf, group_names=labels, title=title, cbar=False)"
   ]
  },
  {
   "cell_type": "markdown",
   "metadata": {},
   "source": [
    "#### Original Model with all features\n",
    "\n",
    "High dimensionality"
   ]
  },
  {
   "cell_type": "code",
   "execution_count": 162,
   "metadata": {},
   "outputs": [],
   "source": [
    "model = results[1]['model']"
   ]
  },
  {
   "cell_type": "code",
   "execution_count": 164,
   "metadata": {},
   "outputs": [],
   "source": [
    "y_pred = model.predict(X_scaled)\n",
    "cf2 = confusion_matrix(y,y_pred)"
   ]
  },
  {
   "cell_type": "code",
   "execution_count": 165,
   "metadata": {},
   "outputs": [
    {
     "data": {
      "image/png": "[encoded data removed]",
      "text/plain": [
       "<Figure size 432x288 with 1 Axes>"
      ]
     },
     "metadata": {
      "needs_background": "light"
     },
     "output_type": "display_data"
    }
   ],
   "source": [
    "labels = ['True Negative','False Positive','False Negative', 'True Positive']\n",
    "title = 'XGBoost Model All Features\\nCommercial=1, News=0'\n",
    "make_confusion_matrix(cf2, group_names=labels, title=title, cbar=False)"
   ]
  },
  {
   "cell_type": "code",
   "execution_count": null,
   "metadata": {},
   "outputs": [],
   "source": []
  }
 ],
 "metadata": {
  "kernelspec": {
   "display_name": "Python [conda env:learn-env] *",
   "language": "python",
   "name": "conda-env-learn-env-py"
  },
  "language_info": {
   "codemirror_mode": {
    "name": "ipython",
    "version": 3
   },
   "file_extension": ".py",
   "mimetype": "text/x-python",
   "name": "python",
   "nbconvert_exporter": "python",
   "pygments_lexer": "ipython3",
   "version": "3.6.6"
  }
 },
 "nbformat": 4,
 "nbformat_minor": 2
}
